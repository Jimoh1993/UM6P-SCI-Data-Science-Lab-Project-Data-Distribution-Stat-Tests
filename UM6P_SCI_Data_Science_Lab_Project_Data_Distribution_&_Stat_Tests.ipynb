{
  "nbformat": 4,
  "nbformat_minor": 0,
  "metadata": {
    "colab": {
      "name": "UM6P SCI Data Science Lab Project Data Distribution & Stat Tests.ipynb",
      "provenance": []
    },
    "kernelspec": {
      "name": "python3",
      "display_name": "Python 3"
    },
    "language_info": {
      "name": "python"
    }
  },
  "cells": [
    {
      "cell_type": "code",
      "metadata": {
        "id": "igzrd-ZrQbG6",
        "colab": {
          "base_uri": "https://localhost:8080/",
          "height": 265
        },
        "outputId": "2be4a8ba-ca9c-4e98-ba59-0892575538ae"
      },
      "source": [
        "# Package import\n",
        "import numpy as np\n",
        "import matplotlib.pyplot as plt\n",
        "\n",
        "# Normal Distribution\n",
        "x = np.random.normal(5.0, 1.0, 100000)\n",
        "\n",
        "# Plot histogram\n",
        "plt.hist(x, 100)\n",
        "plt.show()"
      ],
      "execution_count": 2,
      "outputs": [
        {
          "output_type": "display_data",
          "data": {
            "image/png": "[encoded data removed]",
            "text/plain": [
              "<Figure size 432x288 with 1 Axes>"
            ]
          },
          "metadata": {
            "needs_background": "light"
          }
        }
      ]
    },
    {
      "cell_type": "code",
      "source": [
        "# The Shapiro Wilk Normality Test\n",
        "from scipy.stats import shapiro\n",
        "sample_data = [0, 0, 3, 1, 1, 2, 2, 1, 2, 0]\n",
        "stat, p = shapiro(sample_data)\n",
        "print(\"stat=%.3f, p=%.3f\" % (stat, p))\n",
        "alpha = 0.05\n",
        "if (p > alpha):\n",
        "  print(\"Sample data look Guassian (fail to reject H0)\")\n",
        "else:\n",
        "  Print(\"Sample doesn't look Guassian (reject H0)\")"
      ],
      "metadata": {
        "colab": {
          "base_uri": "https://localhost:8080/"
        },
        "id": "T9ZnUav6Cjcm",
        "outputId": "1960f751-8392-4418-d781-68227ebbb96e"
      },
      "execution_count": 7,
      "outputs": [
        {
          "output_type": "stream",
          "name": "stdout",
          "text": [
            "stat=0.895, p=0.191\n",
            "Sample data look Guassian (fail to reject H0)\n"
          ]
        }
      ]
    },
    {
      "cell_type": "code",
      "source": [
        "# The Pearson's Corelation tests\n",
        "from scipy.stats import pearsonr\n",
        "sample_data1 = [0, 0, 3, 1, 1, 2, 2, 1, 2, 0]\n",
        "sample_data2 = [0, 0, 3, 1, 1, 2, 2, 1, 2, 0]\n",
        "stat, p = pearsonr(sample_data1, sample_data2)\n",
        "print(\"stat=%.3f, p=%.3f\" % (stat, p))\n",
        "alpha = 0.005\n",
        "if (p > alpha):\n",
        "  print(\"Probably independent\")\n",
        "else:\n",
        "  print(\"Probably dependent\")\n"
      ],
      "metadata": {
        "colab": {
          "base_uri": "https://localhost:8080/"
        },
        "id": "6VgBVaPfG1Bs",
        "outputId": "70f562d6-2466-4b84-8828-5a3626ab11a6"
      },
      "execution_count": 15,
      "outputs": [
        {
          "output_type": "stream",
          "name": "stdout",
          "text": [
            "stat=1.000, p=0.000\n",
            "Probably dependent\n"
          ]
        }
      ]
    },
    {
      "cell_type": "code",
      "source": [
        "# Example of Chi-square Test\n",
        "from scipy.stats import chi2_contingency\n",
        "table = [[1, 2, 3, 4, 5], [6, 7, 8, 9, 0]]\n",
        "stat, p, dof, expected = chi2_contingency(table)\n",
        "print('stat=%.3f, p=%.3f' % (stat, p))\n",
        "alpha = 0.005\n",
        "if (p > alpha):\n",
        "    print(\"Probably independent\")\n",
        "else:\n",
        "    print(\"Probably dependent\")\n"
      ],
      "metadata": {
        "colab": {
          "base_uri": "https://localhost:8080/"
        },
        "id": "jqQ2hJGEI6hQ",
        "outputId": "17c3f860-b591-471a-f44d-eb2dd706a50b"
      },
      "execution_count": 17,
      "outputs": [
        {
          "output_type": "stream",
          "name": "stdout",
          "text": [
            "stat=11.863, p=0.018\n",
            "Probably independent\n"
          ]
        }
      ]
    },
    {
      "cell_type": "code",
      "source": [
        "# Example of student's t-test\n",
        "from scipy.stats import ttest_ind\n",
        "sample_data1 = [0, 0, 3, 1, 1, 2, 2, 1, 2, 0]\n",
        "sample_data2 = [0, 0, 3, 1, 1, 2, 2, 1, 2, 0]\n",
        "stat, p = ttest_ind(sample_data1, sample_data2)\n",
        "print('stat=%.3f, p=%.3f' % (stat, p))\n",
        "if (p > 0.005):\n",
        "  print(\"Probably thesame distribution\")\n",
        "else:\n",
        "  print(\"Probably different distribution\")"
      ],
      "metadata": {
        "colab": {
          "base_uri": "https://localhost:8080/"
        },
        "id": "nurK3cinKOse",
        "outputId": "5456e249-e431-45fc-f7c6-50c9b6f59800"
      },
      "execution_count": 19,
      "outputs": [
        {
          "output_type": "stream",
          "name": "stdout",
          "text": [
            "stat=0.000, p=1.000\n",
            "Probably thesame distribution\n"
          ]
        }
      ]
    },
    {
      "cell_type": "code",
      "source": [
        "# Example Bernouli distribution\n",
        "from scipy.stats import bernoulli\n",
        "import seaborn as sb\n",
        "data_bern = bernoulli.rvs(size = 100, p = 0.8)\n",
        "ax = sb.distplot(data_bern,\n",
        "                 kde=True, \n",
        "                 color='crimson', \n",
        "                 hist_kws={\"linewidth\":25, 'alpha':1})\n",
        "ax.set(xlabel=\"Bernoulli\", ylabel=\"Frequency\")"
      ],
      "metadata": {
        "colab": {
          "base_uri": "https://localhost:8080/",
          "height": 351
        },
        "id": "bixNwQF8NB5T",
        "outputId": "1307f111-2cd4-4fdb-ea92-e7b738b89ed2"
      },
      "execution_count": 56,
      "outputs": [
        {
          "output_type": "stream",
          "name": "stderr",
          "text": [
            "/usr/local/lib/python3.7/dist-packages/seaborn/distributions.py:2619: FutureWarning: `distplot` is a deprecated function and will be removed in a future version. Please adapt your code to use either `displot` (a figure-level function with similar flexibility) or `histplot` (an axes-level function for histograms).\n",
            "  warnings.warn(msg, FutureWarning)\n"
          ]
        },
        {
          "output_type": "execute_result",
          "data": {
            "text/plain": [
              "[Text(0, 0.5, 'Frequency'), Text(0.5, 0, 'Bernoulli')]"
            ]
          },
          "metadata": {},
          "execution_count": 56
        },
        {
          "output_type": "display_data",
          "data": {
            "image/png": "[encoded data removed]",
            "text/plain": [
              "<Figure size 432x288 with 1 Axes>"
            ]
          },
          "metadata": {
            "needs_background": "light"
          }
        }
      ]
    },
    {
      "cell_type": "code",
      "source": [
        "# Example of Binomial distribution\n",
        "import seaborn as sb, numpy as np\n",
        "from scipy.stats import binom\n",
        "data_binom = binom.rvs(size = 100, n = 20, p = 0.8, loc = 0)\n",
        "print(data_binom)\n",
        "ax = sb.distplot(data_binom, kde=True, color='blue', hist_kws = {\"linewidth\":25, 'alpha':1} )\n",
        "ax.set(xlabel=\"Binomial\", ylabel=\"Frequency\")"
      ],
      "metadata": {
        "colab": {
          "base_uri": "https://localhost:8080/",
          "height": 438
        },
        "id": "9YhAwJ-GQ9b1",
        "outputId": "73c13c00-e90b-406c-af37-c50baa9059c5"
      },
      "execution_count": 64,
      "outputs": [
        {
          "output_type": "stream",
          "name": "stdout",
          "text": [
            "[14 18 18 14 17 20 15 16 17 17 18 14 14 17 15 16 14 15 18 15 15 16 16 13\n",
            " 15 16 15 15 16 18 16 16 14 10 14 16 16 18 12 17 16 16 15 16 18 18 18 16\n",
            " 18 15 14 11 12 17 16 18 18 13 14 14 18 14 15 18 17 19 14 15 13 18 15 16\n",
            " 13 15 20 15 16 15 16 15 15 18 19 15 17 17 18 15 18 13 17 14 16 19 18 16\n",
            " 12 18 16 17]\n"
          ]
        },
        {
          "output_type": "stream",
          "name": "stderr",
          "text": [
            "/usr/local/lib/python3.7/dist-packages/seaborn/distributions.py:2619: FutureWarning: `distplot` is a deprecated function and will be removed in a future version. Please adapt your code to use either `displot` (a figure-level function with similar flexibility) or `histplot` (an axes-level function for histograms).\n",
            "  warnings.warn(msg, FutureWarning)\n"
          ]
        },
        {
          "output_type": "execute_result",
          "data": {
            "text/plain": [
              "[Text(0, 0.5, 'Frequency'), Text(0.5, 0, 'Binomial')]"
            ]
          },
          "metadata": {},
          "execution_count": 64
        },
        {
          "output_type": "display_data",
          "data": {
            "image/png": "[encoded data removed]",
            "text/plain": [
              "<Figure size 432x288 with 1 Axes>"
            ]
          },
          "metadata": {
            "needs_background": "light"
          }
        }
      ]
    },
    {
      "cell_type": "code",
      "source": [
        "# Binomial distribution functions\n",
        "from scipy import stats\n",
        "X = stats.binom(10, 0.2) # Declare X to be a binomial random variable\n",
        "print(X.pmf(3))           # P(X = 3)\n",
        "print(X.cdf(4))           # P(X <= 4)\n",
        "print(X.mean())           # E[X]\n",
        "print(X.var())            # Var(X)\n",
        "print(X.std())            # Std(X)\n",
        "print(X.rvs())            # Get a random sample from X\n",
        "print(X.rvs(10))          # Get 10 random samples form X"
      ],
      "metadata": {
        "colab": {
          "base_uri": "https://localhost:8080/"
        },
        "id": "QhhKBCFvXKFj",
        "outputId": "e73012d7-fdaa-4168-8194-111ca1b81996"
      },
      "execution_count": 65,
      "outputs": [
        {
          "output_type": "stream",
          "name": "stdout",
          "text": [
            "0.20132659200000022\n",
            "0.9672065024000001\n",
            "2.0\n",
            "1.6\n",
            "1.2649110640673518\n",
            "5\n",
            "[3 2 2 3 5 2 2 2 4 1]\n"
          ]
        }
      ]
    },
    {
      "cell_type": "code",
      "source": [
        "# Binomial distribution functions\n",
        "from scipy import stats\n",
        "X = stats.binom(10, 0.2) # Declare X to be a binomial random variable\n",
        "help(X)                  # List all methods defined for X"
      ],
      "metadata": {
        "colab": {
          "base_uri": "https://localhost:8080/"
        },
        "id": "pwzXfBlUXWfH",
        "outputId": "65466164-b9e2-44fc-ebe6-4c0df06fd44e"
      },
      "execution_count": 66,
      "outputs": [
        {
          "output_type": "stream",
          "name": "stdout",
          "text": [
            "Help on rv_frozen in module scipy.stats._distn_infrastructure object:\n",
            "\n",
            "class rv_frozen(builtins.object)\n",
            " |  rv_frozen(dist, *args, **kwds)\n",
            " |  \n",
            " |  # Frozen RV class\n",
            " |  \n",
            " |  Methods defined here:\n",
            " |  \n",
            " |  __init__(self, dist, *args, **kwds)\n",
            " |      Initialize self.  See help(type(self)) for accurate signature.\n",
            " |  \n",
            " |  cdf(self, x)\n",
            " |  \n",
            " |  entropy(self)\n",
            " |  \n",
            " |  expect(self, func=None, lb=None, ub=None, conditional=False, **kwds)\n",
            " |  \n",
            " |  interval(self, alpha)\n",
            " |  \n",
            " |  isf(self, q)\n",
            " |  \n",
            " |  logcdf(self, x)\n",
            " |  \n",
            " |  logpdf(self, x)\n",
            " |  \n",
            " |  logpmf(self, k)\n",
            " |  \n",
            " |  logsf(self, x)\n",
            " |  \n",
            " |  mean(self)\n",
            " |  \n",
            " |  median(self)\n",
            " |  \n",
            " |  moment(self, n)\n",
            " |  \n",
            " |  pdf(self, x)\n",
            " |  \n",
            " |  pmf(self, k)\n",
            " |  \n",
            " |  ppf(self, q)\n",
            " |  \n",
            " |  rvs(self, size=None, random_state=None)\n",
            " |  \n",
            " |  sf(self, x)\n",
            " |  \n",
            " |  stats(self, moments='mv')\n",
            " |  \n",
            " |  std(self)\n",
            " |  \n",
            " |  support(self)\n",
            " |  \n",
            " |  var(self)\n",
            " |  \n",
            " |  ----------------------------------------------------------------------\n",
            " |  Data descriptors defined here:\n",
            " |  \n",
            " |  __dict__\n",
            " |      dictionary for instance variables (if defined)\n",
            " |  \n",
            " |  __weakref__\n",
            " |      list of weak references to the object (if defined)\n",
            " |  \n",
            " |  random_state\n",
            "\n"
          ]
        }
      ]
    }
  ]
}